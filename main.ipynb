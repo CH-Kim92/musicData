{
 "cells": [
  {
   "cell_type": "code",
   "execution_count": 1,
   "id": "5e4971cc",
   "metadata": {},
   "outputs": [],
   "source": [
    "\"\"\" Author : Changhyun Kim \n",
    "    Starting date : 05/06/2022\n",
    "\"\"\"\n",
    "\n",
    "import numpy as np\n",
    "import pandas as pd\n",
    "import random \n",
    "import tensorflow as tf \n",
    "import matplotlib.pyplot as plt\n",
    "\n",
    "from tensorflow import keras\n",
    "from tensorflow.keras import layers"
   ]
  },
  {
   "cell_type": "code",
   "execution_count": 2,
   "id": "9148e8a1",
   "metadata": {},
   "outputs": [],
   "source": [
    "musicdb = pd.read_csv(\n",
    "    'src/genres_v2.csv', usecols=['danceability', 'energy', 'loudness', 'speechiness', 'acousticness', 'instrumentalness', 'tempo', 'song_name'], low_memory=False)"
   ]
  },
  {
   "cell_type": "code",
   "execution_count": 3,
   "id": "4535ac0c",
   "metadata": {},
   "outputs": [
    {
     "name": "stdout",
     "output_type": "stream",
     "text": [
      "danceability        float64\n",
      "energy              float64\n",
      "loudness            float64\n",
      "speechiness         float64\n",
      "acousticness        float64\n",
      "instrumentalness    float64\n",
      "tempo               float64\n",
      "song_name            object\n",
      "dtype: object\n",
      "   danceability  energy  loudness  speechiness  acousticness  \\\n",
      "0         0.831   0.814    -7.364       0.4200        0.0598   \n",
      "1         0.719   0.493    -7.230       0.0794        0.4010   \n",
      "2         0.850   0.893    -4.783       0.0623        0.0138   \n",
      "3         0.476   0.781    -4.710       0.1030        0.0237   \n",
      "4         0.798   0.624    -7.668       0.2930        0.2170   \n",
      "\n",
      "   instrumentalness    tempo                                      song_name  \n",
      "0          0.013400  156.985                            Mercury: Retrograde  \n",
      "1          0.000000  115.080                                      Pathology  \n",
      "2          0.000004  218.050                                       Symbiote  \n",
      "3          0.000000  186.948  ProductOfDrugs (Prod. The Virus and Antidote)  \n",
      "4          0.000000  147.988                                          Venom  \n",
      "Music data shape :  (21519, 8)\n",
      "       danceability        energy      loudness   speechiness  acousticness  \\\n",
      "count  21519.000000  21519.000000  21519.000000  21519.000000  21519.000000   \n",
      "mean       0.674583      0.657252     -7.039576      0.178072      0.167282   \n",
      "std        0.159427      0.175719      2.906579      0.140648      0.208450   \n",
      "min        0.065100      0.000243    -33.357000      0.022700      0.000001   \n",
      "25%        0.566000      0.535000     -8.645500      0.056850      0.016800   \n",
      "50%        0.697000      0.660000     -6.687000      0.133000      0.080000   \n",
      "75%        0.796000      0.792000     -5.049500      0.277000      0.239000   \n",
      "max        0.988000      0.999000      3.148000      0.946000      0.988000   \n",
      "\n",
      "       instrumentalness         tempo  \n",
      "count      21519.000000  21519.000000  \n",
      "mean           0.075957    151.480713  \n",
      "std            0.220703     29.137425  \n",
      "min            0.000000     57.967000  \n",
      "25%            0.000000    129.961000  \n",
      "50%            0.000001    149.648000  \n",
      "75%            0.000713    174.029000  \n",
      "max            0.989000    220.290000  \n"
     ]
    }
   ],
   "source": [
    "# Drop na value\n",
    "musicDB = musicdb.dropna()\n",
    "print(musicDB.dtypes)\n",
    "print(musicDB.head())\n",
    "print(\"Music data shape : \", musicDB.shape)\n",
    "print(musicDB.describe())"
   ]
  },
  {
   "cell_type": "code",
   "execution_count": 4,
   "id": "8e4cfba9",
   "metadata": {},
   "outputs": [],
   "source": [
    "musicDB_columns = musicDB.columns\n",
    "\n",
    "# devide dataset into predictors and target \n",
    "predictors = musicDB[musicDB_columns[musicDB_columns != 'song_name']]\n",
    "target = musicDB['song_name']\n",
    "\n",
    "#rand_number = random.randrange(0,21519)"
   ]
  },
  {
   "cell_type": "markdown",
   "id": "4694fd71",
   "metadata": {},
   "source": [
    "<h3> Using loudness , temp finds dancability. <h3>"
   ]
  },
  {
   "cell_type": "code",
   "execution_count": 5,
   "id": "4b281684",
   "metadata": {},
   "outputs": [],
   "source": [
    "train_db = musicDB.sample(frac=0.8, random_state=0)\n",
    "test_db = musicDB.drop(train_db.index)\n",
    "\n",
    "train_x = train_db.copy()\n",
    "test_x = test_db.copy()\n",
    "\n",
    "train_y = train_db.pop('danceability')\n",
    "test_y = test_db.pop('danceability')\n",
    "\n",
    "# X_data = musicDB[['tempo','loudness']].transpose()\n",
    "# Y_data = musicDB[['danceability']].transpose()"
   ]
  },
  {
   "cell_type": "code",
   "execution_count": 6,
   "id": "dfc9caaa",
   "metadata": {},
   "outputs": [
    {
     "data": {
      "text/plain": [
       "(4304, 8)"
      ]
     },
     "execution_count": 6,
     "metadata": {},
     "output_type": "execute_result"
    }
   ],
   "source": [
    "train_x.shape\n",
    "test_x.shape"
   ]
  },
  {
   "cell_type": "markdown",
   "id": "6c5555da",
   "metadata": {},
   "source": [
    "<h4> Linear regression <h4>\n",
    "Linear regression with one variable which is loundness"
   ]
  },
  {
   "cell_type": "code",
   "execution_count": 7,
   "id": "73a85d2e",
   "metadata": {},
   "outputs": [
    {
     "name": "stdout",
     "output_type": "stream",
     "text": [
      "Metal device set to: Apple M1 Max\n"
     ]
    },
    {
     "name": "stderr",
     "output_type": "stream",
     "text": [
      "2022-06-17 18:45:18.710106: I tensorflow/core/common_runtime/pluggable_device/pluggable_device_factory.cc:305] Could not identify NUMA node of platform GPU ID 0, defaulting to 0. Your kernel may not have been built with NUMA support.\n",
      "2022-06-17 18:45:18.710863: I tensorflow/core/common_runtime/pluggable_device/pluggable_device_factory.cc:271] Created TensorFlow device (/job:localhost/replica:0/task:0/device:GPU:0 with 0 MB memory) -> physical PluggableDevice (device: 0, name: METAL, pci bus id: <undefined>)\n",
      "2022-06-17 18:45:18.816754: W tensorflow/core/platform/profile_utils/cpu_utils.cc:128] Failed to get CPU frequency: 0 Hz\n",
      "2022-06-17 18:45:18.878621: I tensorflow/core/grappler/optimizers/custom_graph_optimizer_registry.cc:113] Plugin optimizer for device_type GPU is enabled.\n",
      "2022-06-17 18:45:18.894962: I tensorflow/core/grappler/optimizers/custom_graph_optimizer_registry.cc:113] Plugin optimizer for device_type GPU is enabled.\n"
     ]
    }
   ],
   "source": [
    "loudness = np.array(train_x['loudness'])\n",
    "loudness_normalizer = layers.Normalization(input_shape=[1,], axis=None)\n",
    "loudness_normalizer.adapt(loudness)"
   ]
  },
  {
   "cell_type": "code",
   "execution_count": 9,
   "id": "7c05e957",
   "metadata": {},
   "outputs": [],
   "source": [
    "#loud_model = tf.keras.models.load_model('loudness_dancability')\n",
    "#model = keras.models.load_model('loudness_.."
   ]
  },
  {
   "cell_type": "code",
   "execution_count": 8,
   "id": "0f52a60f",
   "metadata": {
    "collapsed": true,
    "jupyter": {
     "outputs_hidden": true
    }
   },
   "outputs": [
    {
     "name": "stdout",
     "output_type": "stream",
     "text": [
      "Model: \"sequential\"\n",
      "_________________________________________________________________\n",
      " Layer (type)                Output Shape              Param #   \n",
      "=================================================================\n",
      " normalization (Normalizatio  (None, 1)                3         \n",
      " n)                                                              \n",
      "                                                                 \n",
      " dense (Dense)               (None, 1)                 2         \n",
      "                                                                 \n",
      "=================================================================\n",
      "Total params: 5\n",
      "Trainable params: 2\n",
      "Non-trainable params: 3\n",
      "_________________________________________________________________\n"
     ]
    }
   ],
   "source": [
    "loud_model = tf.keras.Sequential([\n",
    "    loudness_normalizer,\n",
    "    layers.Dense(units=1)\n",
    "])\n",
    "\n",
    "loud_model.summary()"
   ]
  },
  {
   "cell_type": "code",
   "execution_count": 10,
   "id": "0f8184d4",
   "metadata": {},
   "outputs": [
    {
     "name": "stdout",
     "output_type": "stream",
     "text": [
      "1/1 [==============================] - 0s 57ms/step\n"
     ]
    },
    {
     "name": "stderr",
     "output_type": "stream",
     "text": [
      "2022-06-17 18:47:20.599060: I tensorflow/core/grappler/optimizers/custom_graph_optimizer_registry.cc:113] Plugin optimizer for device_type GPU is enabled.\n"
     ]
    },
    {
     "data": {
      "text/plain": [
       "array([[0.6927776 ],\n",
       "       [0.67357224],\n",
       "       [0.6898019 ],\n",
       "       [0.67689   ],\n",
       "       [0.7035346 ],\n",
       "       [0.56800276],\n",
       "       [0.6468592 ],\n",
       "       [0.61525506],\n",
       "       [0.648501  ],\n",
       "       [0.6485523 ]], dtype=float32)"
      ]
     },
     "execution_count": 10,
     "metadata": {},
     "output_type": "execute_result"
    }
   ],
   "source": [
    "loud_model.predict(loudness[:10])"
   ]
  },
  {
   "cell_type": "code",
   "execution_count": 11,
   "id": "74edcf73",
   "metadata": {},
   "outputs": [],
   "source": [
    "loud_model.compile(\n",
    "optimizer = tf.optimizers.Adam(learning_rate=0.1), loss = 'mean_absolute_error')"
   ]
  },
  {
   "cell_type": "code",
   "execution_count": 13,
   "id": "59c842df",
   "metadata": {},
   "outputs": [
    {
     "name": "stdout",
     "output_type": "stream",
     "text": [
      "Epoch 1/100\n",
      "431/431 - 2s - loss: 0.1355 - val_loss: 0.1487 - 2s/epoch - 4ms/step\n",
      "Epoch 2/100\n",
      "431/431 - 1s - loss: 0.1337 - val_loss: 0.1484 - 1s/epoch - 3ms/step\n",
      "Epoch 3/100\n",
      "431/431 - 1s - loss: 0.1352 - val_loss: 0.1330 - 1s/epoch - 3ms/step\n",
      "Epoch 4/100\n",
      "431/431 - 1s - loss: 0.1330 - val_loss: 0.1384 - 1s/epoch - 3ms/step\n",
      "Epoch 5/100\n",
      "431/431 - 1s - loss: 0.1343 - val_loss: 0.1329 - 1s/epoch - 3ms/step\n",
      "Epoch 6/100\n",
      "431/431 - 1s - loss: 0.1341 - val_loss: 0.1310 - 1s/epoch - 3ms/step\n",
      "Epoch 7/100\n",
      "431/431 - 1s - loss: 0.1328 - val_loss: 0.1313 - 1s/epoch - 3ms/step\n",
      "Epoch 8/100\n",
      "431/431 - 1s - loss: 0.1331 - val_loss: 0.1428 - 1s/epoch - 3ms/step\n",
      "Epoch 9/100\n",
      "431/431 - 2s - loss: 0.1354 - val_loss: 0.1485 - 2s/epoch - 4ms/step\n",
      "Epoch 10/100\n",
      "431/431 - 1s - loss: 0.1342 - val_loss: 0.1402 - 1s/epoch - 3ms/step\n",
      "Epoch 11/100\n",
      "431/431 - 2s - loss: 0.1351 - val_loss: 0.1318 - 2s/epoch - 4ms/step\n",
      "Epoch 12/100\n",
      "431/431 - 1s - loss: 0.1334 - val_loss: 0.1330 - 1s/epoch - 3ms/step\n",
      "Epoch 13/100\n",
      "431/431 - 2s - loss: 0.1336 - val_loss: 0.1361 - 2s/epoch - 3ms/step\n",
      "Epoch 14/100\n",
      "431/431 - 1s - loss: 0.1333 - val_loss: 0.1351 - 1s/epoch - 3ms/step\n",
      "Epoch 15/100\n",
      "431/431 - 1s - loss: 0.1343 - val_loss: 0.1343 - 1s/epoch - 3ms/step\n",
      "Epoch 16/100\n",
      "431/431 - 1s - loss: 0.1339 - val_loss: 0.1451 - 1s/epoch - 3ms/step\n",
      "Epoch 17/100\n",
      "431/431 - 1s - loss: 0.1340 - val_loss: 0.1780 - 1s/epoch - 3ms/step\n",
      "Epoch 18/100\n",
      "431/431 - 1s - loss: 0.1336 - val_loss: 0.1335 - 1s/epoch - 3ms/step\n",
      "Epoch 19/100\n",
      "431/431 - 1s - loss: 0.1350 - val_loss: 0.1370 - 1s/epoch - 3ms/step\n",
      "Epoch 20/100\n",
      "431/431 - 1s - loss: 0.1335 - val_loss: 0.1853 - 1s/epoch - 3ms/step\n",
      "Epoch 21/100\n",
      "431/431 - 1s - loss: 0.1361 - val_loss: 0.1347 - 1s/epoch - 3ms/step\n",
      "Epoch 22/100\n",
      "431/431 - 1s - loss: 0.1339 - val_loss: 0.1371 - 1s/epoch - 3ms/step\n",
      "Epoch 23/100\n",
      "431/431 - 1s - loss: 0.1329 - val_loss: 0.1341 - 1s/epoch - 3ms/step\n",
      "Epoch 24/100\n",
      "431/431 - 1s - loss: 0.1367 - val_loss: 0.1385 - 1s/epoch - 3ms/step\n",
      "Epoch 25/100\n",
      "431/431 - 1s - loss: 0.1345 - val_loss: 0.1406 - 1s/epoch - 3ms/step\n",
      "Epoch 26/100\n",
      "431/431 - 1s - loss: 0.1334 - val_loss: 0.1406 - 1s/epoch - 3ms/step\n",
      "Epoch 27/100\n",
      "431/431 - 1s - loss: 0.1339 - val_loss: 0.1313 - 1s/epoch - 3ms/step\n",
      "Epoch 28/100\n",
      "431/431 - 1s - loss: 0.1351 - val_loss: 0.1400 - 1s/epoch - 3ms/step\n",
      "Epoch 29/100\n",
      "431/431 - 1s - loss: 0.1331 - val_loss: 0.1567 - 1s/epoch - 3ms/step\n",
      "Epoch 30/100\n",
      "431/431 - 1s - loss: 0.1351 - val_loss: 0.1340 - 1s/epoch - 3ms/step\n",
      "Epoch 31/100\n",
      "431/431 - 1s - loss: 0.1345 - val_loss: 0.1328 - 1s/epoch - 3ms/step\n",
      "Epoch 32/100\n",
      "431/431 - 1s - loss: 0.1338 - val_loss: 0.1413 - 1s/epoch - 3ms/step\n",
      "Epoch 33/100\n",
      "431/431 - 1s - loss: 0.1343 - val_loss: 0.1400 - 1s/epoch - 3ms/step\n",
      "Epoch 34/100\n",
      "431/431 - 1s - loss: 0.1338 - val_loss: 0.1362 - 1s/epoch - 3ms/step\n",
      "Epoch 35/100\n",
      "431/431 - 1s - loss: 0.1348 - val_loss: 0.1445 - 1s/epoch - 3ms/step\n",
      "Epoch 36/100\n",
      "431/431 - 1s - loss: 0.1338 - val_loss: 0.1328 - 1s/epoch - 3ms/step\n",
      "Epoch 37/100\n",
      "431/431 - 1s - loss: 0.1336 - val_loss: 0.1530 - 1s/epoch - 3ms/step\n",
      "Epoch 38/100\n",
      "431/431 - 1s - loss: 0.1336 - val_loss: 0.1381 - 1s/epoch - 3ms/step\n",
      "Epoch 39/100\n",
      "431/431 - 1s - loss: 0.1337 - val_loss: 0.1326 - 1s/epoch - 3ms/step\n",
      "Epoch 40/100\n",
      "431/431 - 1s - loss: 0.1349 - val_loss: 0.1424 - 1s/epoch - 3ms/step\n",
      "Epoch 41/100\n",
      "431/431 - 1s - loss: 0.1355 - val_loss: 0.1370 - 1s/epoch - 3ms/step\n",
      "Epoch 42/100\n",
      "431/431 - 1s - loss: 0.1335 - val_loss: 0.1387 - 1s/epoch - 3ms/step\n",
      "Epoch 43/100\n",
      "431/431 - 1s - loss: 0.1339 - val_loss: 0.1376 - 1s/epoch - 3ms/step\n",
      "Epoch 44/100\n",
      "431/431 - 1s - loss: 0.1361 - val_loss: 0.1383 - 1s/epoch - 3ms/step\n",
      "Epoch 45/100\n",
      "431/431 - 1s - loss: 0.1330 - val_loss: 0.1326 - 1s/epoch - 3ms/step\n",
      "Epoch 46/100\n",
      "431/431 - 1s - loss: 0.1326 - val_loss: 0.1347 - 1s/epoch - 3ms/step\n",
      "Epoch 47/100\n",
      "431/431 - 1s - loss: 0.1349 - val_loss: 0.1427 - 1s/epoch - 3ms/step\n",
      "Epoch 48/100\n",
      "431/431 - 1s - loss: 0.1338 - val_loss: 0.1390 - 1s/epoch - 3ms/step\n",
      "Epoch 49/100\n",
      "431/431 - 1s - loss: 0.1324 - val_loss: 0.1340 - 1s/epoch - 3ms/step\n",
      "Epoch 50/100\n",
      "431/431 - 1s - loss: 0.1332 - val_loss: 0.1333 - 1s/epoch - 3ms/step\n",
      "Epoch 51/100\n",
      "431/431 - 1s - loss: 0.1335 - val_loss: 0.1412 - 1s/epoch - 3ms/step\n",
      "Epoch 52/100\n",
      "431/431 - 1s - loss: 0.1337 - val_loss: 0.1336 - 1s/epoch - 3ms/step\n",
      "Epoch 53/100\n",
      "431/431 - 1s - loss: 0.1330 - val_loss: 0.1313 - 1s/epoch - 3ms/step\n",
      "Epoch 54/100\n",
      "431/431 - 1s - loss: 0.1349 - val_loss: 0.1496 - 1s/epoch - 3ms/step\n",
      "Epoch 55/100\n",
      "431/431 - 1s - loss: 0.1349 - val_loss: 0.1348 - 1s/epoch - 3ms/step\n",
      "Epoch 56/100\n",
      "431/431 - 1s - loss: 0.1336 - val_loss: 0.1357 - 1s/epoch - 3ms/step\n",
      "Epoch 57/100\n",
      "431/431 - 1s - loss: 0.1336 - val_loss: 0.1367 - 1s/epoch - 3ms/step\n",
      "Epoch 58/100\n",
      "431/431 - 1s - loss: 0.1340 - val_loss: 0.1351 - 1s/epoch - 3ms/step\n",
      "Epoch 59/100\n",
      "431/431 - 1s - loss: 0.1335 - val_loss: 0.1348 - 1s/epoch - 3ms/step\n",
      "Epoch 60/100\n",
      "431/431 - 1s - loss: 0.1357 - val_loss: 0.1354 - 1s/epoch - 3ms/step\n",
      "Epoch 61/100\n",
      "431/431 - 1s - loss: 0.1321 - val_loss: 0.1416 - 1s/epoch - 3ms/step\n",
      "Epoch 62/100\n",
      "431/431 - 1s - loss: 0.1344 - val_loss: 0.1364 - 1s/epoch - 3ms/step\n",
      "Epoch 63/100\n",
      "431/431 - 1s - loss: 0.1344 - val_loss: 0.1356 - 1s/epoch - 3ms/step\n",
      "Epoch 64/100\n",
      "431/431 - 1s - loss: 0.1336 - val_loss: 0.1324 - 1s/epoch - 3ms/step\n",
      "Epoch 65/100\n",
      "431/431 - 1s - loss: 0.1339 - val_loss: 0.1423 - 1s/epoch - 3ms/step\n",
      "Epoch 66/100\n",
      "431/431 - 1s - loss: 0.1346 - val_loss: 0.1465 - 1s/epoch - 3ms/step\n",
      "Epoch 67/100\n",
      "431/431 - 1s - loss: 0.1327 - val_loss: 0.1313 - 1s/epoch - 3ms/step\n",
      "Epoch 68/100\n",
      "431/431 - 1s - loss: 0.1344 - val_loss: 0.1352 - 1s/epoch - 3ms/step\n",
      "Epoch 69/100\n",
      "431/431 - 1s - loss: 0.1334 - val_loss: 0.1360 - 1s/epoch - 3ms/step\n",
      "Epoch 70/100\n",
      "431/431 - 1s - loss: 0.1345 - val_loss: 0.1547 - 1s/epoch - 3ms/step\n",
      "Epoch 71/100\n",
      "431/431 - 1s - loss: 0.1344 - val_loss: 0.1354 - 1s/epoch - 3ms/step\n",
      "Epoch 72/100\n",
      "431/431 - 1s - loss: 0.1346 - val_loss: 0.1394 - 1s/epoch - 3ms/step\n",
      "Epoch 73/100\n",
      "431/431 - 1s - loss: 0.1335 - val_loss: 0.1342 - 1s/epoch - 3ms/step\n",
      "Epoch 74/100\n",
      "431/431 - 1s - loss: 0.1331 - val_loss: 0.1343 - 1s/epoch - 3ms/step\n",
      "Epoch 75/100\n",
      "431/431 - 1s - loss: 0.1338 - val_loss: 0.1364 - 1s/epoch - 3ms/step\n",
      "Epoch 76/100\n",
      "431/431 - 1s - loss: 0.1351 - val_loss: 0.1381 - 1s/epoch - 3ms/step\n",
      "Epoch 77/100\n",
      "431/431 - 1s - loss: 0.1346 - val_loss: 0.1434 - 1s/epoch - 3ms/step\n",
      "Epoch 78/100\n",
      "431/431 - 1s - loss: 0.1353 - val_loss: 0.1333 - 1s/epoch - 3ms/step\n",
      "Epoch 79/100\n",
      "431/431 - 1s - loss: 0.1336 - val_loss: 0.1342 - 1s/epoch - 3ms/step\n",
      "Epoch 80/100\n",
      "431/431 - 1s - loss: 0.1332 - val_loss: 0.1362 - 1s/epoch - 3ms/step\n",
      "Epoch 81/100\n",
      "431/431 - 1s - loss: 0.1336 - val_loss: 0.1338 - 1s/epoch - 3ms/step\n",
      "Epoch 82/100\n",
      "431/431 - 1s - loss: 0.1344 - val_loss: 0.1433 - 1s/epoch - 3ms/step\n",
      "Epoch 83/100\n",
      "431/431 - 1s - loss: 0.1334 - val_loss: 0.1391 - 1s/epoch - 3ms/step\n",
      "Epoch 84/100\n",
      "431/431 - 1s - loss: 0.1339 - val_loss: 0.1344 - 1s/epoch - 3ms/step\n",
      "Epoch 85/100\n",
      "431/431 - 1s - loss: 0.1341 - val_loss: 0.1382 - 1s/epoch - 3ms/step\n",
      "Epoch 86/100\n",
      "431/431 - 1s - loss: 0.1334 - val_loss: 0.1439 - 1s/epoch - 3ms/step\n",
      "Epoch 87/100\n",
      "431/431 - 1s - loss: 0.1349 - val_loss: 0.1322 - 1s/epoch - 3ms/step\n",
      "Epoch 88/100\n",
      "431/431 - 1s - loss: 0.1362 - val_loss: 0.1385 - 1s/epoch - 3ms/step\n",
      "Epoch 89/100\n",
      "431/431 - 1s - loss: 0.1341 - val_loss: 0.1311 - 1s/epoch - 3ms/step\n",
      "Epoch 90/100\n",
      "431/431 - 1s - loss: 0.1326 - val_loss: 0.1383 - 1s/epoch - 3ms/step\n",
      "Epoch 91/100\n",
      "431/431 - 1s - loss: 0.1340 - val_loss: 0.1431 - 1s/epoch - 3ms/step\n",
      "Epoch 92/100\n",
      "431/431 - 1s - loss: 0.1364 - val_loss: 0.1325 - 1s/epoch - 3ms/step\n",
      "Epoch 93/100\n",
      "431/431 - 1s - loss: 0.1353 - val_loss: 0.1406 - 1s/epoch - 3ms/step\n",
      "Epoch 94/100\n",
      "431/431 - 1s - loss: 0.1356 - val_loss: 0.1350 - 1s/epoch - 3ms/step\n",
      "Epoch 95/100\n",
      "431/431 - 1s - loss: 0.1343 - val_loss: 0.1439 - 1s/epoch - 3ms/step\n",
      "Epoch 96/100\n",
      "431/431 - 1s - loss: 0.1340 - val_loss: 0.1331 - 1s/epoch - 3ms/step\n",
      "Epoch 97/100\n",
      "431/431 - 1s - loss: 0.1333 - val_loss: 0.1357 - 1s/epoch - 3ms/step\n",
      "Epoch 98/100\n",
      "431/431 - 1s - loss: 0.1360 - val_loss: 0.1339 - 1s/epoch - 3ms/step\n",
      "Epoch 99/100\n",
      "431/431 - 1s - loss: 0.1345 - val_loss: 0.1395 - 1s/epoch - 3ms/step\n",
      "Epoch 100/100\n",
      "431/431 - 1s - loss: 0.1338 - val_loss: 0.1358 - 1s/epoch - 3ms/step\n"
     ]
    }
   ],
   "source": [
    "tranning = loud_model.fit(\n",
    "train_x['loudness'],\n",
    "train_y,\n",
    "epochs=100,\n",
    "verbose=2,\n",
    "validation_split = 0.2)"
   ]
  },
  {
   "cell_type": "code",
   "execution_count": 14,
   "id": "ca615eea",
   "metadata": {},
   "outputs": [
    {
     "data": {
      "text/html": [
       "<div>\n",
       "<style scoped>\n",
       "    .dataframe tbody tr th:only-of-type {\n",
       "        vertical-align: middle;\n",
       "    }\n",
       "\n",
       "    .dataframe tbody tr th {\n",
       "        vertical-align: top;\n",
       "    }\n",
       "\n",
       "    .dataframe thead th {\n",
       "        text-align: right;\n",
       "    }\n",
       "</style>\n",
       "<table border=\"1\" class=\"dataframe\">\n",
       "  <thead>\n",
       "    <tr style=\"text-align: right;\">\n",
       "      <th></th>\n",
       "      <th>loss</th>\n",
       "      <th>val_loss</th>\n",
       "      <th>epoch</th>\n",
       "    </tr>\n",
       "  </thead>\n",
       "  <tbody>\n",
       "    <tr>\n",
       "      <th>95</th>\n",
       "      <td>0.134004</td>\n",
       "      <td>0.133061</td>\n",
       "      <td>95</td>\n",
       "    </tr>\n",
       "    <tr>\n",
       "      <th>96</th>\n",
       "      <td>0.133319</td>\n",
       "      <td>0.135679</td>\n",
       "      <td>96</td>\n",
       "    </tr>\n",
       "    <tr>\n",
       "      <th>97</th>\n",
       "      <td>0.135990</td>\n",
       "      <td>0.133946</td>\n",
       "      <td>97</td>\n",
       "    </tr>\n",
       "    <tr>\n",
       "      <th>98</th>\n",
       "      <td>0.134463</td>\n",
       "      <td>0.139500</td>\n",
       "      <td>98</td>\n",
       "    </tr>\n",
       "    <tr>\n",
       "      <th>99</th>\n",
       "      <td>0.133781</td>\n",
       "      <td>0.135827</td>\n",
       "      <td>99</td>\n",
       "    </tr>\n",
       "  </tbody>\n",
       "</table>\n",
       "</div>"
      ],
      "text/plain": [
       "        loss  val_loss  epoch\n",
       "95  0.134004  0.133061     95\n",
       "96  0.133319  0.135679     96\n",
       "97  0.135990  0.133946     97\n",
       "98  0.134463  0.139500     98\n",
       "99  0.133781  0.135827     99"
      ]
     },
     "execution_count": 14,
     "metadata": {},
     "output_type": "execute_result"
    }
   ],
   "source": [
    "hist = pd.DataFrame(tranning.history)\n",
    "hist['epoch'] = tranning.epoch\n",
    "hist.tail()"
   ]
  },
  {
   "cell_type": "markdown",
   "id": "e43e17cd",
   "metadata": {},
   "source": [
    "https://www.tensorflow.org/tutorials/keras/regression"
   ]
  },
  {
   "cell_type": "code",
   "execution_count": 15,
   "id": "4ab6292e",
   "metadata": {},
   "outputs": [],
   "source": [
    "def plot_loss(history):\n",
    "    plt.plot(history.history['loss'], label = 'loss')\n",
    "    plt.plot(history.history['val_loss'], label = 'val_loss')\n",
    "    plt.ylim([0,10])\n",
    "    plt.xlabel('Epoch')\n",
    "    plt.ylabel('Error [loudness]')\n",
    "    plt.legend()\n",
    "    plt.grid(True)"
   ]
  },
  {
   "cell_type": "code",
   "execution_count": 16,
   "id": "c82fb5b4",
   "metadata": {},
   "outputs": [
    {
     "data": {
      "image/png": "[encoded data removed]",
      "text/plain": [
       "<Figure size 432x288 with 1 Axes>"
      ]
     },
     "metadata": {
      "needs_background": "light"
     },
     "output_type": "display_data"
    }
   ],
   "source": [
    "plot_loss(tranning)"
   ]
  },
  {
   "cell_type": "code",
   "execution_count": 17,
   "id": "72c6a641",
   "metadata": {},
   "outputs": [],
   "source": [
    "test_results = {}\n",
    "\n",
    "test_results['loud_model'] = loud_model.evaluate(\n",
    "test_x['loudness'],\n",
    "test_y, verbose =0)"
   ]
  },
  {
   "cell_type": "code",
   "execution_count": 18,
   "id": "98ece027",
   "metadata": {},
   "outputs": [
    {
     "name": "stdout",
     "output_type": "stream",
     "text": [
      "5/5 [==============================] - 0s 3ms/step\n"
     ]
    },
    {
     "name": "stderr",
     "output_type": "stream",
     "text": [
      "2022-06-17 18:53:10.836594: I tensorflow/core/grappler/optimizers/custom_graph_optimizer_registry.cc:113] Plugin optimizer for device_type GPU is enabled.\n"
     ]
    }
   ],
   "source": [
    "x = tf.linspace(-50.0, 20, 151)\n",
    "y = loud_model.predict(x)"
   ]
  },
  {
   "cell_type": "code",
   "execution_count": 19,
   "id": "10d139cb",
   "metadata": {},
   "outputs": [],
   "source": [
    "def plot_loudness(x, y):\n",
    "    plt.scatter(train_x['loudness'], train_y, label = 'Data')\n",
    "    plt.plot(x,y, color='k', label='Predictions')\n",
    "    plt.xlabel('loudness')\n",
    "    plt.ylabel('dancability')\n",
    "    plt.legend()"
   ]
  },
  {
   "cell_type": "code",
   "execution_count": 20,
   "id": "34ec7974",
   "metadata": {},
   "outputs": [
    {
     "data": {
      "image/png": "[encoded data removed]",
      "text/plain": [
       "<Figure size 432x288 with 1 Axes>"
      ]
     },
     "metadata": {
      "needs_background": "light"
     },
     "output_type": "display_data"
    }
   ],
   "source": [
    "plot_loudness(x,y)"
   ]
  },
  {
   "cell_type": "code",
   "execution_count": 21,
   "id": "0639a557",
   "metadata": {},
   "outputs": [
    {
     "name": "stdout",
     "output_type": "stream",
     "text": [
      "Model: \"sequential\"\n",
      "_________________________________________________________________\n",
      " Layer (type)                Output Shape              Param #   \n",
      "=================================================================\n",
      " normalization (Normalizatio  (None, 1)                3         \n",
      " n)                                                              \n",
      "                                                                 \n",
      " dense (Dense)               (None, 1)                 2         \n",
      "                                                                 \n",
      "=================================================================\n",
      "Total params: 5\n",
      "Trainable params: 2\n",
      "Non-trainable params: 3\n",
      "_________________________________________________________________\n"
     ]
    }
   ],
   "source": [
    "loud_model.summary()"
   ]
  },
  {
   "cell_type": "code",
   "execution_count": 22,
   "id": "9978ad30",
   "metadata": {},
   "outputs": [
    {
     "name": "stdout",
     "output_type": "stream",
     "text": [
      "INFO:tensorflow:Assets written to: loudness_dancability/assets\n"
     ]
    }
   ],
   "source": [
    "loud_model.save('loudness_dancability')"
   ]
  },
  {
   "cell_type": "code",
   "execution_count": null,
   "id": "3526b05b",
   "metadata": {
    "collapsed": true,
    "jupyter": {
     "outputs_hidden": true
    }
   },
   "outputs": [],
   "source": [
    "#model = keras.models.load_model('loudness_..')"
   ]
  }
 ],
 "metadata": {
  "kernelspec": {
   "display_name": "env_music",
   "language": "python",
   "name": "env_music"
  },
  "language_info": {
   "codemirror_mode": {
    "name": "ipython",
    "version": 3
   },
   "file_extension": ".py",
   "mimetype": "text/x-python",
   "name": "python",
   "nbconvert_exporter": "python",
   "pygments_lexer": "ipython3",
   "version": "3.8.13"
  }
 },
 "nbformat": 4,
 "nbformat_minor": 5
}
