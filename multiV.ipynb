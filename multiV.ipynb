{
 "cells": [
  {
   "cell_type": "code",
   "execution_count": 45,
   "id": "066fa409",
   "metadata": {},
   "outputs": [],
   "source": [
    "\"\"\" Author : Changhyun Kim \n",
    "    Starting date : 05/06/2022\n",
    "\"\"\"\n",
    "\n",
    "import numpy as np\n",
    "import pandas as pd\n",
    "import random \n",
    "import tensorflow as tf \n",
    "import matplotlib.pyplot as plt\n",
    "\n",
    "from tensorflow import keras\n",
    "from tensorflow.keras import layers"
   ]
  },
  {
   "cell_type": "code",
   "execution_count": 46,
   "id": "a48f8329",
   "metadata": {},
   "outputs": [],
   "source": [
    "musicdb = pd.read_csv(\n",
    "    'src/genres_v2.csv', usecols=['danceability', 'energy', 'loudness', 'speechiness', 'acousticness', 'instrumentalness', 'tempo', 'song_name'], low_memory=False)"
   ]
  },
  {
   "cell_type": "code",
   "execution_count": 47,
   "id": "4cec7cdf",
   "metadata": {},
   "outputs": [],
   "source": [
    "# Drop na value\n",
    "musicDB = musicdb.dropna()"
   ]
  },
  {
   "cell_type": "code",
   "execution_count": 48,
   "id": "3d8137ae",
   "metadata": {},
   "outputs": [],
   "source": [
    "musicDB_columns = musicDB.columns\n",
    "\n",
    "# devide dataset into predictors and target \n",
    "predictors = musicDB[musicDB_columns[musicDB_columns != 'song_name']]\n",
    "target = musicDB['song_name']\n",
    "\n",
    "#rand_number = random.randrange(0,21519)"
   ]
  },
  {
   "cell_type": "code",
   "execution_count": 49,
   "id": "5006af98",
   "metadata": {},
   "outputs": [],
   "source": [
    "train_db = musicDB.sample(frac=0.8, random_state=0)\n",
    "test_db = musicDB.drop(train_db.index)\n",
    "\n",
    "train_x = train_db.copy()\n",
    "test_x = test_db.copy()\n",
    "\n",
    "train_y = train_db.pop('danceability')\n",
    "test_y = test_db.pop('danceability')\n",
    "\n",
    "# X_data = musicDB[['tempo','loudness']].transpose()\n",
    "# Y_data = musicDB[['danceability']].transpose()"
   ]
  },
  {
   "cell_type": "code",
   "execution_count": 50,
   "id": "0d676e63",
   "metadata": {},
   "outputs": [],
   "source": [
    "normalizer = tf.keras.layers.Normalization(axis=-1)"
   ]
  },
  {
   "cell_type": "code",
   "execution_count": 51,
   "id": "dffc1c4a",
   "metadata": {},
   "outputs": [],
   "source": [
    "multi_model = tf.keras.Sequential([\n",
    "    normalizer,\n",
    "    layers.Dense(units=1)\n",
    "])"
   ]
  },
  {
   "cell_type": "code",
   "execution_count": 52,
   "id": "65faee1b",
   "metadata": {},
   "outputs": [
    {
     "name": "stdout",
     "output_type": "stream",
     "text": [
      "1/1 [==============================] - 0s 53ms/step\n"
     ]
    },
    {
     "name": "stderr",
     "output_type": "stream",
     "text": [
      "2022-06-17 20:37:36.820445: I tensorflow/core/grappler/optimizers/custom_graph_optimizer_registry.cc:113] Plugin optimizer for device_type GPU is enabled.\n"
     ]
    },
    {
     "data": {
      "text/plain": [
       "array([[-39.17738 ],\n",
       "       [-29.92002 ],\n",
       "       [-25.717997],\n",
       "       [-34.1481  ],\n",
       "       [-34.520115],\n",
       "       [-34.716934],\n",
       "       [-27.765665],\n",
       "       [-30.650312],\n",
       "       [-40.90141 ],\n",
       "       [-39.85673 ]], dtype=float32)"
      ]
     },
     "execution_count": 52,
     "metadata": {},
     "output_type": "execute_result"
    }
   ],
   "source": [
    "train_v = train_x.drop(['song_name',\n",
    "                       'danceability'],axis=1)\n",
    "train_v.head()\n",
    "#train_v.head()\n",
    "multi_model.predict(train_v[:10])"
   ]
  },
  {
   "cell_type": "code",
   "execution_count": 53,
   "id": "078af559",
   "metadata": {},
   "outputs": [
    {
     "data": {
      "text/plain": [
       "<tf.Variable 'dense_1/kernel:0' shape=(6, 1) dtype=float32, numpy=\n",
       "array([[-0.34849173],\n",
       "       [ 0.60426664],\n",
       "       [ 0.34245265],\n",
       "       [-0.91339725],\n",
       "       [ 0.53233755],\n",
       "       [-0.20247483]], dtype=float32)>"
      ]
     },
     "execution_count": 53,
     "metadata": {},
     "output_type": "execute_result"
    }
   ],
   "source": [
    "multi_model.layers[1].kernel"
   ]
  },
  {
   "cell_type": "code",
   "execution_count": 54,
   "id": "0ccd6120",
   "metadata": {},
   "outputs": [
    {
     "data": {
      "text/plain": [
       "13403    0.348\n",
       "14474    0.555\n",
       "11061    0.631\n",
       "19802    0.599\n",
       "5797     0.690\n",
       "Name: danceability, dtype: float64"
      ]
     },
     "execution_count": 54,
     "metadata": {},
     "output_type": "execute_result"
    }
   ],
   "source": [
    "multi_model.compile(\n",
    "optimizer = tf.keras.optimizers.Adam(learning_rate=0.1),\n",
    "loss = 'mean_absolute_error')\n",
    "train_y.head()"
   ]
  },
  {
   "cell_type": "code",
   "execution_count": 55,
   "id": "8c34ef0f",
   "metadata": {},
   "outputs": [
    {
     "name": "stdout",
     "output_type": "stream",
     "text": [
      "Epoch 1/100\n"
     ]
    },
    {
     "name": "stderr",
     "output_type": "stream",
     "text": [
      "2022-06-17 20:37:56.127131: I tensorflow/core/grappler/optimizers/custom_graph_optimizer_registry.cc:113] Plugin optimizer for device_type GPU is enabled.\n",
      "2022-06-17 20:37:57.472298: I tensorflow/core/grappler/optimizers/custom_graph_optimizer_registry.cc:113] Plugin optimizer for device_type GPU is enabled.\n"
     ]
    },
    {
     "name": "stdout",
     "output_type": "stream",
     "text": [
      "431/431 - 2s - loss: 2.0199 - val_loss: 0.8455 - 2s/epoch - 4ms/step\n",
      "Epoch 2/100\n",
      "431/431 - 1s - loss: 1.1321 - val_loss: 1.2544 - 1s/epoch - 3ms/step\n",
      "Epoch 3/100\n",
      "431/431 - 2s - loss: 1.4068 - val_loss: 0.2819 - 2s/epoch - 3ms/step\n",
      "Epoch 4/100\n",
      "431/431 - 1s - loss: 1.6100 - val_loss: 0.2689 - 1s/epoch - 3ms/step\n",
      "Epoch 5/100\n",
      "431/431 - 1s - loss: 1.3932 - val_loss: 1.3058 - 1s/epoch - 3ms/step\n",
      "Epoch 6/100\n",
      "431/431 - 1s - loss: 1.9585 - val_loss: 1.6245 - 1s/epoch - 3ms/step\n",
      "Epoch 7/100\n",
      "431/431 - 1s - loss: 1.4350 - val_loss: 0.7752 - 1s/epoch - 3ms/step\n",
      "Epoch 8/100\n",
      "431/431 - 1s - loss: 1.2379 - val_loss: 0.1295 - 1s/epoch - 3ms/step\n",
      "Epoch 9/100\n",
      "431/431 - 1s - loss: 1.6038 - val_loss: 0.2036 - 1s/epoch - 3ms/step\n",
      "Epoch 10/100\n",
      "431/431 - 1s - loss: 1.5990 - val_loss: 1.1667 - 1s/epoch - 3ms/step\n",
      "Epoch 11/100\n",
      "431/431 - 1s - loss: 1.4409 - val_loss: 0.5540 - 1s/epoch - 3ms/step\n",
      "Epoch 12/100\n",
      "431/431 - 1s - loss: 1.9990 - val_loss: 0.8387 - 1s/epoch - 3ms/step\n",
      "Epoch 13/100\n",
      "431/431 - 1s - loss: 1.7938 - val_loss: 5.2005 - 1s/epoch - 3ms/step\n",
      "Epoch 14/100\n",
      "431/431 - 1s - loss: 1.8067 - val_loss: 0.8896 - 1s/epoch - 3ms/step\n",
      "Epoch 15/100\n",
      "431/431 - 1s - loss: 1.6760 - val_loss: 0.1570 - 1s/epoch - 3ms/step\n",
      "Epoch 16/100\n",
      "431/431 - 2s - loss: 1.2829 - val_loss: 1.7448 - 2s/epoch - 4ms/step\n",
      "Epoch 17/100\n",
      "431/431 - 2s - loss: 1.9701 - val_loss: 0.6319 - 2s/epoch - 3ms/step\n",
      "Epoch 18/100\n",
      "431/431 - 1s - loss: 1.3470 - val_loss: 0.5067 - 1s/epoch - 3ms/step\n",
      "Epoch 19/100\n",
      "431/431 - 2s - loss: 1.7229 - val_loss: 2.6431 - 2s/epoch - 4ms/step\n",
      "Epoch 20/100\n",
      "431/431 - 2s - loss: 1.7266 - val_loss: 0.6379 - 2s/epoch - 4ms/step\n",
      "Epoch 21/100\n",
      "431/431 - 2s - loss: 1.8039 - val_loss: 0.2445 - 2s/epoch - 4ms/step\n",
      "Epoch 22/100\n",
      "431/431 - 2s - loss: 1.5483 - val_loss: 0.6826 - 2s/epoch - 4ms/step\n",
      "Epoch 23/100\n",
      "431/431 - 1s - loss: 1.2906 - val_loss: 0.9160 - 1s/epoch - 3ms/step\n",
      "Epoch 24/100\n",
      "431/431 - 1s - loss: 1.3747 - val_loss: 2.0240 - 1s/epoch - 3ms/step\n",
      "Epoch 25/100\n",
      "431/431 - 2s - loss: 1.7117 - val_loss: 1.3950 - 2s/epoch - 4ms/step\n",
      "Epoch 26/100\n",
      "431/431 - 1s - loss: 1.8832 - val_loss: 0.2356 - 1s/epoch - 3ms/step\n",
      "Epoch 27/100\n",
      "431/431 - 1s - loss: 1.4689 - val_loss: 1.5741 - 1s/epoch - 3ms/step\n",
      "Epoch 28/100\n",
      "431/431 - 1s - loss: 1.4067 - val_loss: 0.9696 - 1s/epoch - 3ms/step\n",
      "Epoch 29/100\n",
      "431/431 - 1s - loss: 1.1557 - val_loss: 0.4250 - 1s/epoch - 3ms/step\n",
      "Epoch 30/100\n",
      "431/431 - 1s - loss: 1.4181 - val_loss: 2.2269 - 1s/epoch - 3ms/step\n",
      "Epoch 31/100\n",
      "431/431 - 1s - loss: 1.3121 - val_loss: 2.2763 - 1s/epoch - 3ms/step\n",
      "Epoch 32/100\n",
      "431/431 - 1s - loss: 1.2062 - val_loss: 1.4939 - 1s/epoch - 3ms/step\n",
      "Epoch 33/100\n",
      "431/431 - 1s - loss: 1.5403 - val_loss: 1.0587 - 1s/epoch - 3ms/step\n",
      "Epoch 34/100\n",
      "431/431 - 2s - loss: 1.5436 - val_loss: 0.6975 - 2s/epoch - 4ms/step\n",
      "Epoch 35/100\n",
      "431/431 - 1s - loss: 2.2521 - val_loss: 2.8680 - 1s/epoch - 3ms/step\n",
      "Epoch 36/100\n",
      "431/431 - 1s - loss: 1.5998 - val_loss: 0.9568 - 1s/epoch - 3ms/step\n",
      "Epoch 37/100\n",
      "431/431 - 1s - loss: 1.3838 - val_loss: 3.5969 - 1s/epoch - 3ms/step\n",
      "Epoch 38/100\n",
      "431/431 - 1s - loss: 1.4690 - val_loss: 1.0136 - 1s/epoch - 3ms/step\n",
      "Epoch 39/100\n",
      "431/431 - 1s - loss: 1.1925 - val_loss: 0.5448 - 1s/epoch - 3ms/step\n",
      "Epoch 40/100\n",
      "431/431 - 1s - loss: 1.4498 - val_loss: 0.3821 - 1s/epoch - 3ms/step\n",
      "Epoch 41/100\n",
      "431/431 - 1s - loss: 1.5679 - val_loss: 1.4141 - 1s/epoch - 3ms/step\n",
      "Epoch 42/100\n",
      "431/431 - 1s - loss: 1.7972 - val_loss: 4.5264 - 1s/epoch - 3ms/step\n",
      "Epoch 43/100\n",
      "431/431 - 2s - loss: 1.2931 - val_loss: 2.4108 - 2s/epoch - 4ms/step\n",
      "Epoch 44/100\n",
      "431/431 - 1s - loss: 1.5079 - val_loss: 1.0641 - 1s/epoch - 3ms/step\n",
      "Epoch 45/100\n",
      "431/431 - 1s - loss: 1.1595 - val_loss: 1.6383 - 1s/epoch - 3ms/step\n",
      "Epoch 46/100\n",
      "431/431 - 2s - loss: 1.4477 - val_loss: 1.0067 - 2s/epoch - 3ms/step\n",
      "Epoch 47/100\n",
      "431/431 - 1s - loss: 1.5506 - val_loss: 1.3144 - 1s/epoch - 3ms/step\n",
      "Epoch 48/100\n",
      "431/431 - 2s - loss: 1.5882 - val_loss: 1.5652 - 2s/epoch - 4ms/step\n",
      "Epoch 49/100\n",
      "431/431 - 2s - loss: 1.4563 - val_loss: 1.0364 - 2s/epoch - 4ms/step\n",
      "Epoch 50/100\n",
      "431/431 - 2s - loss: 1.8188 - val_loss: 0.4854 - 2s/epoch - 4ms/step\n",
      "Epoch 51/100\n",
      "431/431 - 2s - loss: 1.7760 - val_loss: 2.5103 - 2s/epoch - 4ms/step\n",
      "Epoch 52/100\n",
      "431/431 - 2s - loss: 1.4841 - val_loss: 0.2092 - 2s/epoch - 4ms/step\n",
      "Epoch 53/100\n",
      "431/431 - 2s - loss: 1.3711 - val_loss: 0.1653 - 2s/epoch - 4ms/step\n",
      "Epoch 54/100\n",
      "431/431 - 2s - loss: 1.3578 - val_loss: 0.9365 - 2s/epoch - 4ms/step\n",
      "Epoch 55/100\n",
      "431/431 - 1s - loss: 1.7307 - val_loss: 1.0523 - 1s/epoch - 3ms/step\n",
      "Epoch 56/100\n",
      "431/431 - 1s - loss: 1.5017 - val_loss: 1.7048 - 1s/epoch - 3ms/step\n",
      "Epoch 57/100\n",
      "431/431 - 1s - loss: 1.2334 - val_loss: 0.8485 - 1s/epoch - 3ms/step\n",
      "Epoch 58/100\n",
      "431/431 - 1s - loss: 1.5740 - val_loss: 2.5871 - 1s/epoch - 3ms/step\n",
      "Epoch 59/100\n",
      "431/431 - 2s - loss: 1.5721 - val_loss: 2.1015 - 2s/epoch - 3ms/step\n",
      "Epoch 60/100\n",
      "431/431 - 1s - loss: 1.3257 - val_loss: 1.4898 - 1s/epoch - 3ms/step\n",
      "Epoch 61/100\n",
      "431/431 - 1s - loss: 1.1850 - val_loss: 1.8736 - 1s/epoch - 3ms/step\n",
      "Epoch 62/100\n",
      "431/431 - 1s - loss: 1.5511 - val_loss: 0.5029 - 1s/epoch - 3ms/step\n",
      "Epoch 63/100\n",
      "431/431 - 1s - loss: 1.6233 - val_loss: 3.1504 - 1s/epoch - 3ms/step\n",
      "Epoch 64/100\n",
      "431/431 - 1s - loss: 2.0065 - val_loss: 0.7952 - 1s/epoch - 3ms/step\n",
      "Epoch 65/100\n",
      "431/431 - 1s - loss: 1.6672 - val_loss: 2.7022 - 1s/epoch - 3ms/step\n",
      "Epoch 66/100\n",
      "431/431 - 1s - loss: 1.8332 - val_loss: 3.2383 - 1s/epoch - 3ms/step\n",
      "Epoch 67/100\n",
      "431/431 - 1s - loss: 1.9086 - val_loss: 0.2145 - 1s/epoch - 3ms/step\n",
      "Epoch 68/100\n",
      "431/431 - 1s - loss: 1.4626 - val_loss: 0.4251 - 1s/epoch - 3ms/step\n",
      "Epoch 69/100\n",
      "431/431 - 1s - loss: 1.8657 - val_loss: 0.8969 - 1s/epoch - 3ms/step\n",
      "Epoch 70/100\n",
      "431/431 - 2s - loss: 1.1871 - val_loss: 2.1480 - 2s/epoch - 3ms/step\n",
      "Epoch 71/100\n",
      "431/431 - 1s - loss: 1.5711 - val_loss: 0.4395 - 1s/epoch - 3ms/step\n",
      "Epoch 72/100\n",
      "431/431 - 1s - loss: 2.0514 - val_loss: 1.1187 - 1s/epoch - 3ms/step\n",
      "Epoch 73/100\n",
      "431/431 - 1s - loss: 1.4764 - val_loss: 1.5498 - 1s/epoch - 3ms/step\n",
      "Epoch 74/100\n",
      "431/431 - 2s - loss: 1.5412 - val_loss: 1.5085 - 2s/epoch - 3ms/step\n",
      "Epoch 75/100\n",
      "431/431 - 2s - loss: 1.3796 - val_loss: 0.5339 - 2s/epoch - 4ms/step\n",
      "Epoch 76/100\n",
      "431/431 - 2s - loss: 1.2876 - val_loss: 0.7278 - 2s/epoch - 4ms/step\n",
      "Epoch 77/100\n",
      "431/431 - 1s - loss: 1.6215 - val_loss: 0.8898 - 1s/epoch - 3ms/step\n",
      "Epoch 78/100\n",
      "431/431 - 1s - loss: 1.4122 - val_loss: 2.7356 - 1s/epoch - 3ms/step\n",
      "Epoch 79/100\n",
      "431/431 - 1s - loss: 1.3593 - val_loss: 2.3719 - 1s/epoch - 3ms/step\n",
      "Epoch 80/100\n",
      "431/431 - 2s - loss: 1.4672 - val_loss: 0.7022 - 2s/epoch - 4ms/step\n",
      "Epoch 81/100\n",
      "431/431 - 2s - loss: 1.4548 - val_loss: 0.5797 - 2s/epoch - 4ms/step\n",
      "Epoch 82/100\n",
      "431/431 - 2s - loss: 1.7439 - val_loss: 1.2478 - 2s/epoch - 3ms/step\n",
      "Epoch 83/100\n",
      "431/431 - 1s - loss: 1.4141 - val_loss: 0.2073 - 1s/epoch - 3ms/step\n",
      "Epoch 84/100\n",
      "431/431 - 2s - loss: 1.4188 - val_loss: 1.4544 - 2s/epoch - 4ms/step\n",
      "Epoch 85/100\n",
      "431/431 - 2s - loss: 1.3994 - val_loss: 2.4837 - 2s/epoch - 4ms/step\n",
      "Epoch 86/100\n",
      "431/431 - 2s - loss: 1.5814 - val_loss: 1.9789 - 2s/epoch - 3ms/step\n",
      "Epoch 87/100\n",
      "431/431 - 1s - loss: 1.3927 - val_loss: 1.4043 - 1s/epoch - 3ms/step\n",
      "Epoch 88/100\n",
      "431/431 - 1s - loss: 1.4119 - val_loss: 0.1597 - 1s/epoch - 3ms/step\n",
      "Epoch 89/100\n",
      "431/431 - 2s - loss: 1.4502 - val_loss: 4.8338 - 2s/epoch - 4ms/step\n",
      "Epoch 90/100\n",
      "431/431 - 2s - loss: 1.3208 - val_loss: 0.3820 - 2s/epoch - 4ms/step\n",
      "Epoch 91/100\n",
      "431/431 - 2s - loss: 1.6037 - val_loss: 2.2759 - 2s/epoch - 3ms/step\n",
      "Epoch 92/100\n",
      "431/431 - 2s - loss: 1.8930 - val_loss: 0.8398 - 2s/epoch - 4ms/step\n",
      "Epoch 93/100\n",
      "431/431 - 2s - loss: 1.4451 - val_loss: 0.2479 - 2s/epoch - 4ms/step\n",
      "Epoch 94/100\n",
      "431/431 - 2s - loss: 1.2595 - val_loss: 1.8682 - 2s/epoch - 4ms/step\n",
      "Epoch 95/100\n",
      "431/431 - 1s - loss: 1.3281 - val_loss: 1.2016 - 1s/epoch - 3ms/step\n",
      "Epoch 96/100\n",
      "431/431 - 1s - loss: 1.6773 - val_loss: 3.0220 - 1s/epoch - 3ms/step\n",
      "Epoch 97/100\n",
      "431/431 - 1s - loss: 1.8209 - val_loss: 0.8605 - 1s/epoch - 3ms/step\n",
      "Epoch 98/100\n",
      "431/431 - 1s - loss: 1.3059 - val_loss: 2.0105 - 1s/epoch - 3ms/step\n",
      "Epoch 99/100\n",
      "431/431 - 1s - loss: 1.2756 - val_loss: 0.1443 - 1s/epoch - 3ms/step\n",
      "Epoch 100/100\n",
      "431/431 - 1s - loss: 1.4598 - val_loss: 0.5637 - 1s/epoch - 3ms/step\n"
     ]
    }
   ],
   "source": [
    "trainning = multi_model.fit(\n",
    "train_v,\n",
    "train_y,\n",
    "epochs=100,\n",
    "verbose=2,\n",
    "validation_split = 0.2)"
   ]
  },
  {
   "cell_type": "code",
   "execution_count": 56,
   "id": "1d26367a",
   "metadata": {},
   "outputs": [],
   "source": [
    "def plot_loss(history):\n",
    "    plt.plot(history.history['loss'], label = 'loss')\n",
    "    plt.plot(history.history['val_loss'], label = 'val_loss')\n",
    "    plt.ylim([0,10])\n",
    "    plt.xlabel('Epoch')\n",
    "    plt.ylabel('Error [loudness]')\n",
    "    plt.legend()\n",
    "    plt.grid(True)"
   ]
  },
  {
   "cell_type": "code",
   "execution_count": 57,
   "id": "89c9ecf6",
   "metadata": {},
   "outputs": [
    {
     "data": {
      "image/png": "[encoded data removed]",
      "text/plain": [
       "<Figure size 432x288 with 1 Axes>"
      ]
     },
     "metadata": {
      "needs_background": "light"
     },
     "output_type": "display_data"
    }
   ],
   "source": [
    "plot_loss(trainning)"
   ]
  },
  {
   "cell_type": "code",
   "execution_count": 58,
   "id": "35e31447",
   "metadata": {},
   "outputs": [],
   "source": [
    "test_v = test_x.drop(['song_name'],axis=1)"
   ]
  },
  {
   "cell_type": "code",
   "execution_count": 59,
   "id": "02f2a664",
   "metadata": {},
   "outputs": [
    {
     "data": {
      "text/html": [
       "<div>\n",
       "<style scoped>\n",
       "    .dataframe tbody tr th:only-of-type {\n",
       "        vertical-align: middle;\n",
       "    }\n",
       "\n",
       "    .dataframe tbody tr th {\n",
       "        vertical-align: top;\n",
       "    }\n",
       "\n",
       "    .dataframe thead th {\n",
       "        text-align: right;\n",
       "    }\n",
       "</style>\n",
       "<table border=\"1\" class=\"dataframe\">\n",
       "  <thead>\n",
       "    <tr style=\"text-align: right;\">\n",
       "      <th></th>\n",
       "      <th>danceability</th>\n",
       "      <th>energy</th>\n",
       "      <th>loudness</th>\n",
       "      <th>speechiness</th>\n",
       "      <th>acousticness</th>\n",
       "      <th>instrumentalness</th>\n",
       "      <th>tempo</th>\n",
       "    </tr>\n",
       "  </thead>\n",
       "  <tbody>\n",
       "    <tr>\n",
       "      <th>10</th>\n",
       "      <td>0.864</td>\n",
       "      <td>0.365</td>\n",
       "      <td>-10.219</td>\n",
       "      <td>0.0655</td>\n",
       "      <td>0.1870</td>\n",
       "      <td>0.000000</td>\n",
       "      <td>189.938</td>\n",
       "    </tr>\n",
       "    <tr>\n",
       "      <th>13</th>\n",
       "      <td>0.767</td>\n",
       "      <td>0.576</td>\n",
       "      <td>-9.683</td>\n",
       "      <td>0.2560</td>\n",
       "      <td>0.1450</td>\n",
       "      <td>0.000003</td>\n",
       "      <td>139.990</td>\n",
       "    </tr>\n",
       "    <tr>\n",
       "      <th>19</th>\n",
       "      <td>0.849</td>\n",
       "      <td>0.648</td>\n",
       "      <td>-6.188</td>\n",
       "      <td>0.0832</td>\n",
       "      <td>0.0725</td>\n",
       "      <td>0.005920</td>\n",
       "      <td>212.150</td>\n",
       "    </tr>\n",
       "    <tr>\n",
       "      <th>28</th>\n",
       "      <td>0.799</td>\n",
       "      <td>0.966</td>\n",
       "      <td>-4.586</td>\n",
       "      <td>0.3660</td>\n",
       "      <td>0.0890</td>\n",
       "      <td>0.000000</td>\n",
       "      <td>139.967</td>\n",
       "    </tr>\n",
       "    <tr>\n",
       "      <th>40</th>\n",
       "      <td>0.650</td>\n",
       "      <td>0.952</td>\n",
       "      <td>-2.686</td>\n",
       "      <td>0.5000</td>\n",
       "      <td>0.0912</td>\n",
       "      <td>0.351000</td>\n",
       "      <td>209.998</td>\n",
       "    </tr>\n",
       "  </tbody>\n",
       "</table>\n",
       "</div>"
      ],
      "text/plain": [
       "    danceability  energy  loudness  speechiness  acousticness  \\\n",
       "10         0.864   0.365   -10.219       0.0655        0.1870   \n",
       "13         0.767   0.576    -9.683       0.2560        0.1450   \n",
       "19         0.849   0.648    -6.188       0.0832        0.0725   \n",
       "28         0.799   0.966    -4.586       0.3660        0.0890   \n",
       "40         0.650   0.952    -2.686       0.5000        0.0912   \n",
       "\n",
       "    instrumentalness    tempo  \n",
       "10          0.000000  189.938  \n",
       "13          0.000003  139.990  \n",
       "19          0.005920  212.150  \n",
       "28          0.000000  139.967  \n",
       "40          0.351000  209.998  "
      ]
     },
     "execution_count": 59,
     "metadata": {},
     "output_type": "execute_result"
    }
   ],
   "source": [
    "test_v.head()"
   ]
  },
  {
   "cell_type": "code",
   "execution_count": 60,
   "id": "1333add6",
   "metadata": {},
   "outputs": [
    {
     "data": {
      "text/plain": [
       "danceability          0.8640\n",
       "energy                0.3650\n",
       "loudness            -10.2190\n",
       "speechiness           0.0655\n",
       "acousticness          0.1870\n",
       "instrumentalness      0.0000\n",
       "tempo               189.9380\n",
       "Name: 10, dtype: float64"
      ]
     },
     "execution_count": 60,
     "metadata": {},
     "output_type": "execute_result"
    }
   ],
   "source": [
    "test_v.loc[10]"
   ]
  },
  {
   "cell_type": "code",
   "execution_count": 62,
   "id": "b62baeac",
   "metadata": {},
   "outputs": [
    {
     "name": "stdout",
     "output_type": "stream",
     "text": [
      "1/1 [==============================] - 0s 13ms/step\n"
     ]
    },
    {
     "data": {
      "text/plain": [
       "array([[ 1.0814184 ],\n",
       "       [ 1.066182  ],\n",
       "       [ 0.24780375],\n",
       "       [ 1.0406551 ],\n",
       "       [ 1.0318004 ],\n",
       "       [ 1.0202338 ],\n",
       "       [12.187479  ]], dtype=float32)"
      ]
     },
     "execution_count": 62,
     "metadata": {},
     "output_type": "execute_result"
    }
   ],
   "source": [
    "multi_model.predict(test_v.loc[13])"
   ]
  },
  {
   "cell_type": "code",
   "execution_count": 63,
   "id": "0172b652",
   "metadata": {},
   "outputs": [
    {
     "name": "stdout",
     "output_type": "stream",
     "text": [
      "INFO:tensorflow:Assets written to: multi_danceability/assets\n"
     ]
    }
   ],
   "source": [
    "multi_model.save('multi_danceability')"
   ]
  },
  {
   "cell_type": "markdown",
   "id": "2386535f",
   "metadata": {},
   "source": []
  }
 ],
 "metadata": {
  "kernelspec": {
   "display_name": "env_music",
   "language": "python",
   "name": "env_music"
  },
  "language_info": {
   "codemirror_mode": {
    "name": "ipython",
    "version": 3
   },
   "file_extension": ".py",
   "mimetype": "text/x-python",
   "name": "python",
   "nbconvert_exporter": "python",
   "pygments_lexer": "ipython3",
   "version": "3.8.13"
  }
 },
 "nbformat": 4,
 "nbformat_minor": 5
}
